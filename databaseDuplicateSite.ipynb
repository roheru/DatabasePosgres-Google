{
 "cells": [
  {
   "cell_type": "markdown",
   "metadata": {},
   "source": [
    "<h1><b>TEST PRACTICE BI ANALYST</b></h1>\n",
    "<br>\n",
    "<h2>SQL AND PYTHON TECHNICAL KNOWLEDGE</h2>"
   ]
  },
  {
   "cell_type": "markdown",
   "metadata": {},
   "source": [
    "Installing psycopg2 for postgres connection "
   ]
  },
  {
   "cell_type": "code",
   "execution_count": 6,
   "metadata": {},
   "outputs": [
    {
     "name": "stdout",
     "output_type": "stream",
     "text": [
      "Requirement already satisfied: psycopg2 in c:\\users\\roger\\anaconda3\\lib\\site-packages (2.8.6)\n"
     ]
    }
   ],
   "source": [
    "!pip install psycopg2"
   ]
  },
  {
   "cell_type": "markdown",
   "metadata": {},
   "source": [
    "<h3> Connection PostgreSQL Database From Python </h3>"
   ]
  },
  {
   "cell_type": "code",
   "execution_count": 1,
   "metadata": {},
   "outputs": [],
   "source": [
    "#importar librerías\n",
    "import psycopg2\n",
    "from psycopg2 import Error\n",
    "\n",
    "\n",
    "def connectPosgreSQL():\n",
    "    try:\n",
    "        connection = psycopg2.connect(user=\"postgres\",\n",
    "                                      password=\"1020\",\n",
    "                                      host=\"127.0.0.1\",\n",
    "                                      port=\"5432\",\n",
    "                                      database=\"COBRANDO\")\n",
    "        return connection\n",
    "    except (Exception, Error) as error:\n",
    "        print(\"Error while connecting to PostgreSQL\", error)\n",
    "        return None\n",
    "\n",
    "def closePosgreSQL(connection):\n",
    "    if (connection):\n",
    "        connection.close()\n",
    "        print(\"PostgreSQL connection is closed\")\n",
    "        "
   ]
  },
  {
   "cell_type": "markdown",
   "metadata": {},
   "source": [
    "The next cell shows a Script with PostgreSQL sentences for create database,  however if you want visualize the SQL scripts, you should click here <a href=\"https://github.com/roheru/DatabasePosgres-Google/blob/main/sentences.sql\">Script SQL</a>"
   ]
  },
  {
   "cell_type": "code",
   "execution_count": 108,
   "metadata": {},
   "outputs": [
    {
     "name": "stdout",
     "output_type": "stream",
     "text": [
      "Script has been executed successfully!!\n",
      "PostgreSQL connection is closed\n"
     ]
    }
   ],
   "source": [
    "\n",
    "def readSQLDatabase(c):\n",
    "    b= True\n",
    "    fd = open('sentences.sql', 'r')\n",
    "    sqlFile = fd.read()\n",
    "    fd.close()\n",
    "    sqlFile=sqlFile.replace('\\n',\"\")\n",
    "    sqlFile=sqlFile.strip()\n",
    "    sqlCommands = sqlFile.split(';')\n",
    "    cursor = c.cursor()\n",
    "    for command in sqlCommands:\n",
    "        if(len(command)>0):\n",
    "            try:\n",
    "                cursor.execute(command)\n",
    "                connection.commit()\n",
    "            except (Exception, Error) as a :\n",
    "                b=False\n",
    "                print (\"Command skipped: \", a)       \n",
    "    if(b):\n",
    "        print(\"Script has been executed successfully!!\")\n",
    "connection=connectPosgreSQL()\n",
    "readSQLDatabase(connection)\n",
    "closePosgreSQL(connection)"
   ]
  },
  {
   "cell_type": "markdown",
   "metadata": {},
   "source": [
    "<h3>Reading csv and Excel Files</h3>"
   ]
  },
  {
   "cell_type": "code",
   "execution_count": 1,
   "metadata": {},
   "outputs": [
    {
     "data": {
      "text/html": [
       "<div>\n",
       "<style scoped>\n",
       "    .dataframe tbody tr th:only-of-type {\n",
       "        vertical-align: middle;\n",
       "    }\n",
       "\n",
       "    .dataframe tbody tr th {\n",
       "        vertical-align: top;\n",
       "    }\n",
       "\n",
       "    .dataframe thead th {\n",
       "        text-align: right;\n",
       "    }\n",
       "</style>\n",
       "<table border=\"1\" class=\"dataframe\">\n",
       "  <thead>\n",
       "    <tr style=\"text-align: right;\">\n",
       "      <th></th>\n",
       "      <th>idgestion</th>\n",
       "      <th>hora gest</th>\n",
       "      <th>fecha gestion</th>\n",
       "      <th>cod tipologia</th>\n",
       "      <th>id asesor</th>\n",
       "      <th>deudor</th>\n",
       "    </tr>\n",
       "  </thead>\n",
       "  <tbody>\n",
       "    <tr>\n",
       "      <th>0</th>\n",
       "      <td>1</td>\n",
       "      <td>08:58:43</td>\n",
       "      <td>2020-10-05</td>\n",
       "      <td>27</td>\n",
       "      <td>539509639</td>\n",
       "      <td>668742401</td>\n",
       "    </tr>\n",
       "    <tr>\n",
       "      <th>1</th>\n",
       "      <td>2</td>\n",
       "      <td>17:49:25</td>\n",
       "      <td>2020-11-24</td>\n",
       "      <td>28</td>\n",
       "      <td>777090419</td>\n",
       "      <td>651598748</td>\n",
       "    </tr>\n",
       "    <tr>\n",
       "      <th>2</th>\n",
       "      <td>3</td>\n",
       "      <td>16:49:39</td>\n",
       "      <td>2020-10-02</td>\n",
       "      <td>25</td>\n",
       "      <td>312744337</td>\n",
       "      <td>588294768</td>\n",
       "    </tr>\n",
       "    <tr>\n",
       "      <th>3</th>\n",
       "      <td>4</td>\n",
       "      <td>13:53:42</td>\n",
       "      <td>2020-10-25</td>\n",
       "      <td>27</td>\n",
       "      <td>409035352</td>\n",
       "      <td>941103864</td>\n",
       "    </tr>\n",
       "    <tr>\n",
       "      <th>4</th>\n",
       "      <td>5</td>\n",
       "      <td>11:01:32</td>\n",
       "      <td>2020-10-16</td>\n",
       "      <td>23</td>\n",
       "      <td>914695961</td>\n",
       "      <td>668742401</td>\n",
       "    </tr>\n",
       "  </tbody>\n",
       "</table>\n",
       "</div>"
      ],
      "text/plain": [
       "   idgestion hora gest fecha gestion  cod tipologia  id asesor     deudor\n",
       "0          1  08:58:43    2020-10-05             27  539509639  668742401\n",
       "1          2  17:49:25    2020-11-24             28  777090419  651598748\n",
       "2          3  16:49:39    2020-10-02             25  312744337  588294768\n",
       "3          4  13:53:42    2020-10-25             27  409035352  941103864\n",
       "4          5  11:01:32    2020-10-16             23  914695961  668742401"
      ]
     },
     "execution_count": 1,
     "metadata": {},
     "output_type": "execute_result"
    }
   ],
   "source": [
    "import pandas as pd\n",
    "\n",
    "\n",
    "asesores=pd.read_excel('asesores.xlsx')\n",
    "asignacion=pd.read_excel('Asignacion.xlsx')\n",
    "gestiones=pd.read_excel('Gestiones.xlsx')\n",
    "tipologias=pd.read_excel('tipologias.xlsx')\n",
    "pagos=pd.read_csv('pagos.csv',delimiter=\";\")\n",
    "gestiones.head()"
   ]
  },
  {
   "cell_type": "markdown",
   "metadata": {},
   "source": [
    "Load information from tipologias.xlsx file to Tipologias Table database"
   ]
  },
  {
   "cell_type": "code",
   "execution_count": 109,
   "metadata": {},
   "outputs": [
    {
     "name": "stdout",
     "output_type": "stream",
     "text": [
      "(20, 'COMPROMISO', 'CONTACTO', 'EFECTIVA')\n",
      "(21, 'SEGUIMIENTO', 'CONTACTO', 'NO EFECTIVA')\n",
      "(22, 'PRESION', 'CONTACTO', 'NO EFECTIVA')\n",
      "(23, 'YA PAGO', 'CONTACTO', 'NO EFECTIVA')\n",
      "(24, 'NO PAGA', 'CONTACTO', 'NO EFECTIVA')\n",
      "(25, 'MENSAJE', 'NO CONTACTO', 'NO EFECTIVA')\n",
      "(26, 'NO CONTESTA', 'NO CONTACTO', 'NO EFECTIVA')\n",
      "(27, 'NUMERO EQUIVOCADO', 'NO CONTACTO', 'NO EFECTIVA')\n",
      "(28, 'MESAJE EN BUZON', 'NO CONTACTO', 'NO EFECTIVA')\n",
      "(29, 'NO CONTACTADO', 'NO CONTACTO', 'NO EFECTIVA')\n",
      "(30, 'NORMALIZADO', 'NO CONTACTO', 'NO EFECTIVA')\n",
      "PostgreSQL connection is closed\n"
     ]
    }
   ],
   "source": [
    "def insertTipologias(c):\n",
    "    for row in range(len(tipologias)):\n",
    "        lineRow=tipologias.iloc[row]\n",
    "        insert_query_topologias = \"\"\" INSERT INTO TIPOLOGIAS (cod_tipo , tipologia , contactibilidad,efectividad ) VALUES (%s,%s,%s,%s)\"\"\"\n",
    "        tuple_data=(int(lineRow[\"cod\"]),lineRow[\"tipologia\"],lineRow[\"contactabilidad\"],lineRow[\"efectividad\"])\n",
    "        print(tuple_data)\n",
    "        try:\n",
    "            cursor = c.cursor()\n",
    "            cursor.execute(insert_query_topologias,tuple_data)\n",
    "            c.commit()\n",
    "            cursor.close()\n",
    "        except (Exception, Error) as a :\n",
    "            print (\"Command skipped: \", a)  \n",
    "            \n",
    "connection=connectPosgreSQL()            \n",
    "insertTipologias(connection)\n",
    "closePosgreSQL(connection)"
   ]
  },
  {
   "cell_type": "markdown",
   "metadata": {},
   "source": [
    "Load information in Unidades table "
   ]
  },
  {
   "cell_type": "code",
   "execution_count": 110,
   "metadata": {},
   "outputs": [
    {
     "name": "stdout",
     "output_type": "stream",
     "text": [
      "PostgreSQL connection is closed\n"
     ]
    }
   ],
   "source": [
    "def insertUnidades(c):\n",
    "    insert_query_Unidad1 = \"\"\" INSERT INTO UNIDADES (id_unidad  ,nombre_unidad  , estado ) VALUES (1,'Unidad 1','estado1')\"\"\"\n",
    "    insert_query_Unidad2 = \"\"\" INSERT INTO UNIDADES (id_unidad  ,nombre_unidad  , estado ) VALUES (2,'Unidad 2','estado2')\"\"\"\n",
    "    try:\n",
    "        cursor = c.cursor()\n",
    "        cursor.execute(insert_query_Unidad1)\n",
    "        c.commit()\n",
    "        cursor.close()\n",
    "        \n",
    "        cursor = c.cursor()\n",
    "        cursor.execute(insert_query_Unidad2)\n",
    "        c.commit()\n",
    "        cursor.close()\n",
    "        \n",
    "    except (Exception, Error) as error :\n",
    "        print (\"Command skipped: \", error) \n",
    "connection=connectPosgreSQL()         \n",
    "insertUnidades(connection)\n",
    "closePosgreSQL(connection)"
   ]
  },
  {
   "cell_type": "markdown",
   "metadata": {},
   "source": [
    "Load information in ASESORES table from asesores.xlsx file."
   ]
  },
  {
   "cell_type": "code",
   "execution_count": 111,
   "metadata": {},
   "outputs": [
    {
     "name": "stdout",
     "output_type": "stream",
     "text": [
      "(539509639, 'Luciana Gómez', '01/01/2021', 'estado', 1)\n",
      "(777090419, 'Isabella López', '01/01/2021', 'estado', 1)\n",
      "(312744337, 'Salomé González', '01/01/2021', 'estado', 1)\n",
      "(409035352, 'Antonella García', '01/01/2021', 'estado', 1)\n",
      "(914695961, 'Mariana Martínez', '01/01/2021', 'estado', 1)\n",
      "(114491511, 'Gabriela Ramírez', '01/01/2021', 'estado', 1)\n",
      "(444605412, 'Mariangel Sánchez', '01/01/2021', 'estado', 1)\n",
      "(38538369, 'Celeste Hernández', '01/01/2021', 'estado', 1)\n",
      "(75650634, 'Samantha Díaz', '01/01/2021', 'estado', 1)\n",
      "(830402465, 'Victoria Pérez', '01/01/2021', 'estado', 1)\n",
      "(765998405, 'María José Torres', '01/01/2021', 'estado', 1)\n",
      "(720590845, 'Dulce María Rojas', '01/01/2021', 'estado', 1)\n",
      "(882660630, 'María Celeste Vargas', '01/01/2021', 'estado', 1)\n",
      "(503540252, 'Sara Sofía Moreno', '01/01/2021', 'estado', 1)\n",
      "(820301510, 'María Paula Gutiérrez', '01/01/2021', 'estado', 1)\n",
      "(831127018, 'Emily Sofía Jiménez', '01/01/2021', 'estado', 2)\n",
      "(617143493, 'María Victoria Muñoz', '01/01/2021', 'estado', 2)\n",
      "(239493954, 'María Fernanda Castro', '01/01/2021', 'estado', 2)\n",
      "(631522950, 'Luisa Fernanda Ortiz', '01/01/2021', 'estado', 2)\n",
      "(294861619, 'Sara Valentina Álvarez', '01/01/2021', 'estado', 2)\n",
      "(585177159, 'Juan José Ruiz', '01/01/2021', 'estado', 2)\n",
      "(590324770, 'Miguel Ángel Suárez', '01/01/2021', 'estado', 2)\n",
      "(345613634, 'Juan Sebastián Romero', '01/01/2021', 'estado', 2)\n",
      "(950520692, 'Samuel David Herrera', '01/01/2021', 'estado', 2)\n",
      "(750359384, 'Juan David Valencia', '01/01/2021', 'estado', 2)\n",
      "(292948720, 'Juan Pablo Quintero', '01/01/2021', 'estado', 2)\n",
      "(163274657, 'Juan Diego Restrepo', '01/01/2021', 'estado', 2)\n",
      "(198789391, 'Angel David Giraldo', '01/01/2021', 'estado', 2)\n",
      "(250317869, 'Juan Esteban Morales', '01/01/2021', 'estado', 2)\n",
      "(134702809, 'Andrés Felipe Mejía', '01/01/2021', 'estado', 2)\n",
      "PostgreSQL connection is closed\n"
     ]
    }
   ],
   "source": [
    "def insertAsesores(c):\n",
    "    for row in range(len(asesores)):\n",
    "        lineRow=asesores.iloc[row]\n",
    "        insert_query_asesores = \"\"\" INSERT INTO ASESORES (identificacion,nombre,fecha_ingreso,estado,id_unidad) VALUES (%s,%s,%s,%s,%s)\"\"\"\n",
    "        tuple_data=(int(lineRow[\"asesor id\"]),lineRow[\"nombre\"],\"01/01/2021\",\"estado\",int(lineRow[\"unidad id\"]))\n",
    "        print(tuple_data)\n",
    "        try:\n",
    "            cursor = c.cursor()\n",
    "            cursor.execute(insert_query_asesores,tuple_data)\n",
    "            c.commit()\n",
    "            cursor.close()\n",
    "        except (Exception, Error) as a :\n",
    "            print (\"Command skipped: \", a)  \n",
    "            \n",
    "connection=connectPosgreSQL()            \n",
    "insertAsesores(connection)\n",
    "closePosgreSQL(connection)"
   ]
  },
  {
   "cell_type": "markdown",
   "metadata": {},
   "source": [
    "Load Gestiones.xlsx file in Gestiones table and get id of deudor from Gestiones.xlsx inserting in table deudor using Python."
   ]
  },
  {
   "cell_type": "code",
   "execution_count": 157,
   "metadata": {},
   "outputs": [
    {
     "name": "stdout",
     "output_type": "stream",
     "text": [
      "PostgreSQL connection is closed\n"
     ]
    }
   ],
   "source": [
    "import numpy as npLoad Gestiones.xlsx file in Gestiones table and get id of deudor from Gestiones.xlsx inserting in table deudor using Python.\n",
    "\n",
    "def insertDeudores(c,id_deudor):\n",
    "    id_deudor=id_deudor.drop_duplicates()\n",
    "    id_deudor=id_deudor.sort_values()    \n",
    "    num=1\n",
    "    for row in id_deudor:\n",
    "        insert_query_deudores = \"\"\" INSERT INTO DEUDORES (identificacion,nombre,estado) VALUES (%s,%s,%s)\"\"\"\n",
    "        tuple_data=(int(row),\"nombre\"+str(num),\"estado2\"+str(num))  \n",
    "        try:\n",
    "            cursor = c.cursor()\n",
    "            cursor.execute(insert_query_deudores,tuple_data)\n",
    "            c.commit()\n",
    "            cursor.close()\n",
    "        except (Exception, Error) as a :\n",
    "            print (\"Command skipped: \", a)\n",
    "        num=num+1\n",
    "\n",
    "def insertGestiones(c):\n",
    "    id_deudor=gestiones[\"deudor\"]\n",
    "    insertDeudores(c,id_deudor)\n",
    "    #tuples = [tuple(x) for x in gestiones.to_numpy()]\n",
    "    for row in range(len(gestiones)):\n",
    "        lineRow=gestiones.iloc[row]\n",
    "        insert_query_gestiones = \"\"\" INSERT INTO GESTIONES (id_gestion,identificacion_asesor,fecha_gestion,identificacion_deudor,tipo_gestion) VALUES (%s,%s,%s,%s,%s)\"\"\"\n",
    "        dataTime=str(lineRow[\"fecha gestion\"]).split(\" \")[0]+\" \"+str(lineRow[\"hora gest\"])\n",
    "        tuple_data=(int(lineRow[\"idgestion\"]),int(lineRow[\"id asesor\"]),dataTime,int(lineRow[\"deudor\"]),int(lineRow[\"cod tipologia\"]))\n",
    "        try:\n",
    "            cursor = c.cursor()\n",
    "            cursor.execute(insert_query_gestiones,tuple_data)\n",
    "            c.commit()\n",
    "            cursor.close()\n",
    "        except (Exception, Error) as a :\n",
    "            print (\"Command skipped: \", a)  \n",
    "    \n",
    "            \n",
    "connection=connectPosgreSQL()            \n",
    "insertGestiones(connection)\n",
    "closePosgreSQL(connection)"
   ]
  },
  {
   "cell_type": "markdown",
   "metadata": {},
   "source": [
    "Load Pagos.csv file in Pagos table and get id of obligaciones from Pagos.csv inserting in table Pagos using Python."
   ]
  },
  {
   "cell_type": "code",
   "execution_count": 168,
   "metadata": {},
   "outputs": [
    {
     "name": "stdout",
     "output_type": "stream",
     "text": [
      "PostgreSQL connection is closed\n"
     ]
    }
   ],
   "source": [
    "import numpy as np\n",
    "import pandas as pd\n",
    "\n",
    "def insertObligaciones(c,id_obligacion):\n",
    "    id_obligacion=id_obligacion.drop_duplicates()\n",
    "    id_obligacion=id_obligacion.sort_values()    \n",
    "    num=1\n",
    "    for row in id_obligacion:\n",
    "        insert_query_obligaciones = \"\"\" INSERT INTO OBLIGACIONES (obligacion,estado) VALUES (%s,%s)\"\"\"\n",
    "        tuple_data=(int(row),\"estado\"+str(num))  \n",
    "        try:\n",
    "            cursor = c.cursor()\n",
    "            cursor.execute(insert_query_obligaciones,tuple_data)\n",
    "            c.commit()\n",
    "            cursor.close()\n",
    "        except (Exception, Error) as a :\n",
    "            print (\"Command skipped: \", a)\n",
    "        num=num+1\n",
    "\n",
    "def insertPagos(c):\n",
    "    id_obligacion=pagos[\"obligacion\"]\n",
    "    insertObligaciones(c,id_obligacion)\n",
    "    #tuples = [tuple(x) for x in gestiones.to_numpy()]\n",
    "    for row in range(len(pagos)):\n",
    "        lineRow=pagos.iloc[row]\n",
    "        insert_query_pagos = \"\"\" INSERT INTO PAGOS (obligacion,valor,fecha) VALUES (%s,%s,%s)\"\"\"\n",
    "        dateObl=lineRow[\"fecha\"].split(\"/\")\n",
    "        \n",
    "        tuple_data=(int(lineRow[\"obligacion\"]),float(lineRow[\"valor pago\"]),dateObl[2]+\"-\"+dateObl[1]+\"-\"+dateObl[0])\n",
    "        try:\n",
    "            cursor = c.cursor()\n",
    "            cursor.execute(insert_query_pagos,tuple_data)\n",
    "            c.commit()\n",
    "            cursor.close()\n",
    "        except (Exception, Error) as a :\n",
    "            print (\"Command skipped: \", a)  \n",
    "    \n",
    "            \n",
    "connection=connectPosgreSQL()            \n",
    "insertPagos(connection)\n",
    "closePosgreSQL(connection)"
   ]
  },
  {
   "cell_type": "markdown",
   "metadata": {},
   "source": [
    "Insert Asignaciones.xlsx file in Asignaciones table, insert missing data in Obligaciones table and data for clientes table."
   ]
  },
  {
   "cell_type": "code",
   "execution_count": 12,
   "metadata": {
    "scrolled": true
   },
   "outputs": [
    {
     "name": "stdout",
     "output_type": "stream",
     "text": [
      "Asignaciones has been inserted succesfully!!\n"
     ]
    }
   ],
   "source": [
    "import traceback\n",
    "def insertClientes(c,id_cliente):\n",
    "    id_cliente=id_cliente.drop_duplicates()\n",
    "    id_cliente=id_cliente.sort_values()    \n",
    "    num=1\n",
    "    for row in id_cliente:\n",
    "        insert_query_clientes = \"\"\" INSERT INTO CLIENTES (identificacion,nombre,fecha_registro,estado) VALUES (%s,%s,%s,%s)\"\"\"\n",
    "        tuple_data=(int(row),\"nombre\"+str(num),\"2020-12-21\",\"estado\"+str(num))  \n",
    "        try:\n",
    "            cursor = c.cursor()\n",
    "            cursor.execute(insert_query_clientes,tuple_data)\n",
    "            c.commit()\n",
    "            cursor.close()\n",
    "        except (Exception, Error) as a :\n",
    "            print (\"Command skipped: \", a)\n",
    "        num=num+1\n",
    "\n",
    "def insertObligacionesAsig(c,id_obligacion):\n",
    "    id_obligacion=id_obligacion.drop_duplicates()\n",
    "    id_obligacion=id_obligacion.sort_values()    \n",
    "    num=1\n",
    "    for row in id_obligacion:\n",
    "        insert_query_obligaciones = \"\"\" INSERT INTO OBLIGACIONES (obligacion,estado) VALUES (%s,%s)\"\"\"\n",
    "        tuple_data=(int(row),\"estado\"+str(num))  \n",
    "        try:\n",
    "            c.rollback()\n",
    "            cursor = c.cursor()\n",
    "            cursor.execute(insert_query_obligaciones,tuple_data)\n",
    "            c.commit()\n",
    "            cursor.close()\n",
    "        except (Exception, Error) as a :\n",
    "            c.rollback()\n",
    "            c.commit()\n",
    "        num=num+1\n",
    "\n",
    "def insertAsignaciones(c):\n",
    "    id_clientes=asignacion[\"identificacion\"]\n",
    "    #insertClientes(c,id_clientes)\n",
    "    id_obligacion=asignacion[\"obligacion\"]\n",
    "\n",
    "    insertObligacionesAsig(c,id_obligacion)\n",
    "    closePosgreSQL(c)\n",
    "    c=connectPosgreSQL()\n",
    "    num=1\n",
    "    for row in range(len(asignacion)):\n",
    "        lineRow=asignacion.iloc[row]\n",
    "        insert_query_asignacion = \"\"\" INSERT INTO ASIGNACIONES (identificacion,obligacion,saldo_capital,saldo_actual,saldo_mora,dias_mora,agencia,fecha_asignacion,etapa,tipo,codigo) VALUES (%s,%s,%s,%s,%s,%s,%s,%s,%s,%s,%s)\"\"\"\n",
    "        dateAsig=str(lineRow[\"fecha asignacion\"]).split(\" \")[0]\n",
    "        tuple_data=(int(lineRow[\"identificacion\"]),int(lineRow[\"obligacion\"]),float(lineRow[\"valor capital\"]),float(lineRow[\"valor actual\"]),float(lineRow[\"valor en mora\"]),int(lineRow[\"dias mora\"]),lineRow[\"agencia\"],dateAsig,lineRow[\"etapa\"],lineRow[\"tipo\"],lineRow[\"codigo\"])\n",
    "        print(tuple_data)\n",
    "        #if(row==1):\n",
    "        #    break\n",
    "        try:\n",
    "            c.rollback()\n",
    "            cursor = c.cursor()\n",
    "            cursor.execute(insert_query_asignacion,tuple_data)\n",
    "            c.commit()\n",
    "            cursor.close()\n",
    "        except Exception as exc:\n",
    "            c.rollback()\n",
    "            print (\"Command skipped: \", exc)\n",
    "            c.commit()\n",
    "            \n",
    "\n",
    "    \n",
    "            \n",
    "connection=connectPosgreSQL()\n",
    "\n",
    "insertAsignaciones(connection)\n",
    "closePosgreSQL(connection)\n",
    "print(\"Asignaciones has been inserted succesfully!!\")"
   ]
  },
  {
   "cell_type": "code",
   "execution_count": 169,
   "metadata": {},
   "outputs": [
    {
     "data": {
      "text/html": [
       "<div>\n",
       "<style scoped>\n",
       "    .dataframe tbody tr th:only-of-type {\n",
       "        vertical-align: middle;\n",
       "    }\n",
       "\n",
       "    .dataframe tbody tr th {\n",
       "        vertical-align: top;\n",
       "    }\n",
       "\n",
       "    .dataframe thead th {\n",
       "        text-align: right;\n",
       "    }\n",
       "</style>\n",
       "<table border=\"1\" class=\"dataframe\">\n",
       "  <thead>\n",
       "    <tr style=\"text-align: right;\">\n",
       "      <th></th>\n",
       "      <th>id</th>\n",
       "      <th>identificacion</th>\n",
       "      <th>obligacion</th>\n",
       "      <th>codigo</th>\n",
       "      <th>etapa</th>\n",
       "      <th>tipo</th>\n",
       "      <th>dias mora</th>\n",
       "      <th>valor en mora</th>\n",
       "      <th>valor capital</th>\n",
       "      <th>valor actual</th>\n",
       "      <th>agencia</th>\n",
       "      <th>fecha asignacion</th>\n",
       "      <th>cod prof</th>\n",
       "    </tr>\n",
       "  </thead>\n",
       "  <tbody>\n",
       "    <tr>\n",
       "      <th>0</th>\n",
       "      <td>100</td>\n",
       "      <td>668742401</td>\n",
       "      <td>1023456789</td>\n",
       "      <td>PPTX</td>\n",
       "      <td>NUEVO</td>\n",
       "      <td>CREDIT</td>\n",
       "      <td>31</td>\n",
       "      <td>68628135</td>\n",
       "      <td>43162059</td>\n",
       "      <td>18678644</td>\n",
       "      <td>COBRANDOBPO</td>\n",
       "      <td>2020-12-09</td>\n",
       "      <td>NaN</td>\n",
       "    </tr>\n",
       "    <tr>\n",
       "      <th>1</th>\n",
       "      <td>100</td>\n",
       "      <td>651598748</td>\n",
       "      <td>1023456790</td>\n",
       "      <td>PPTX</td>\n",
       "      <td>NUEVO</td>\n",
       "      <td>CREDIT</td>\n",
       "      <td>203</td>\n",
       "      <td>52962446</td>\n",
       "      <td>89081492</td>\n",
       "      <td>4364931</td>\n",
       "      <td>COBRANDOBPO</td>\n",
       "      <td>2020-12-09</td>\n",
       "      <td>NaN</td>\n",
       "    </tr>\n",
       "    <tr>\n",
       "      <th>2</th>\n",
       "      <td>100</td>\n",
       "      <td>588294768</td>\n",
       "      <td>1023456791</td>\n",
       "      <td>PPTX</td>\n",
       "      <td>NUEVO</td>\n",
       "      <td>CREDIT</td>\n",
       "      <td>163</td>\n",
       "      <td>47926889</td>\n",
       "      <td>65037426</td>\n",
       "      <td>58188654</td>\n",
       "      <td>COBRANDOBPO</td>\n",
       "      <td>2020-12-09</td>\n",
       "      <td>NaN</td>\n",
       "    </tr>\n",
       "    <tr>\n",
       "      <th>3</th>\n",
       "      <td>100</td>\n",
       "      <td>941103864</td>\n",
       "      <td>1023456792</td>\n",
       "      <td>PPTX</td>\n",
       "      <td>NUEVO</td>\n",
       "      <td>CREDIT</td>\n",
       "      <td>66</td>\n",
       "      <td>60272778</td>\n",
       "      <td>89600725</td>\n",
       "      <td>61034657</td>\n",
       "      <td>COBRANDOBPO</td>\n",
       "      <td>2020-12-09</td>\n",
       "      <td>NaN</td>\n",
       "    </tr>\n",
       "    <tr>\n",
       "      <th>4</th>\n",
       "      <td>100</td>\n",
       "      <td>668742401</td>\n",
       "      <td>1023456793</td>\n",
       "      <td>PPTX</td>\n",
       "      <td>NUEVO</td>\n",
       "      <td>CREDIT</td>\n",
       "      <td>150</td>\n",
       "      <td>75232620</td>\n",
       "      <td>44237493</td>\n",
       "      <td>5580279</td>\n",
       "      <td>COBRANDOBPO</td>\n",
       "      <td>2020-12-09</td>\n",
       "      <td>NaN</td>\n",
       "    </tr>\n",
       "  </tbody>\n",
       "</table>\n",
       "</div>"
      ],
      "text/plain": [
       "    id  identificacion  obligacion codigo  etapa    tipo  dias mora  \\\n",
       "0  100       668742401  1023456789   PPTX  NUEVO  CREDIT         31   \n",
       "1  100       651598748  1023456790   PPTX  NUEVO  CREDIT        203   \n",
       "2  100       588294768  1023456791   PPTX  NUEVO  CREDIT        163   \n",
       "3  100       941103864  1023456792   PPTX  NUEVO  CREDIT         66   \n",
       "4  100       668742401  1023456793   PPTX  NUEVO  CREDIT        150   \n",
       "\n",
       "   valor en mora  valor capital  valor actual      agencia fecha asignacion  \\\n",
       "0       68628135       43162059      18678644  COBRANDOBPO       2020-12-09   \n",
       "1       52962446       89081492       4364931  COBRANDOBPO       2020-12-09   \n",
       "2       47926889       65037426      58188654  COBRANDOBPO       2020-12-09   \n",
       "3       60272778       89600725      61034657  COBRANDOBPO       2020-12-09   \n",
       "4       75232620       44237493       5580279  COBRANDOBPO       2020-12-09   \n",
       "\n",
       "   cod prof  \n",
       "0       NaN  \n",
       "1       NaN  \n",
       "2       NaN  \n",
       "3       NaN  \n",
       "4       NaN  "
      ]
     },
     "execution_count": 169,
     "metadata": {},
     "output_type": "execute_result"
    }
   ],
   "source": []
  },
  {
   "cell_type": "code",
   "execution_count": null,
   "metadata": {},
   "outputs": [],
   "source": []
  },
  {
   "cell_type": "markdown",
   "metadata": {},
   "source": [
    "#     INFORMES BI - GOOGLE DATA STUDIO\n",
    "    "
   ]
  },
  {
   "cell_type": "markdown",
   "metadata": {},
   "source": [
    "A continuación se muestran los siguientes informes generados con Google Data Studio:\n",
    "<ul>\n",
    "  <li>Tendencias de pago por meses</li>\n",
    "  <li>Mapa de calor por horas de gestión</li>\n",
    "  <li>Cantidad de gestiones por asesor</li>\n",
    "  <li>Cantidad de clientes deudores por asesor</li>\n",
    "</ul>\n",
    "\n",
    "Para la entrega de los informes se visualiza el enlance en formato pdf y el link del informe en Google Data Studio.\n",
    "\n",
    "\n",
    "<table class=\"table table-condensed\">\n",
    "    <tbody>\n",
    "        <tr>\n",
    "            <th><center>Informe</center></th>\n",
    "            <th><center>Enlace Pdf</center></th>\n",
    "            <th><center>Enlace Google Data Studio</center></th>\n",
    "        </tr>\n",
    "        <tr>\n",
    "            <th><center>Tendencias de pago por meses</center></th>\n",
    "            <th><center><a href=\"https://github.com/roheru/DatabasePosgres-Google/blob/main/Informes/Informe_Tendencia_Pago_Por_Meses.pdf\">Pdf Tendencia Por Meses</a></center></th>\n",
    "            <th><center><a href=\"https://datastudio.google.com/reporting/ac982a5d-78a2-4931-91bd-3214a2e2b7ff\">Data-Studio Tendencia Por Meses</a></center></th>\n",
    "        </tr>\n",
    "        <tr>\n",
    "            <th><center>Mapa de calor por horas de gestión</center></th>\n",
    "            <th><center><a href=\"https://github.com/roheru/DatabasePosgres-Google/blob/main/Informes/Heat_Map_Por_Horas.pdf\">Pdf Mapa de calor</a></center></th>\n",
    "            <th><center><a href=\"https://datastudio.google.com/reporting/9c473b92-1ae7-4f98-8bf0-0294f5ab9c24\">Data-Studio Mapa de Calor</a></center></th>\n",
    "        </tr>\n",
    "        <tr>\n",
    "            <th><center>Cantidad de gestiones por asesor</center></th>\n",
    "            <th><center><a href=\"https://github.com/roheru/DatabasePosgres-Google/blob/main/Informes/Cantidad_de_Gestiones_Por_Asesor.pdf\">Pdf Gestiones Por Asesor</a></center></th>\n",
    "            <th><center><a href=\"https://datastudio.google.com/reporting/a2ff327a-0daa-419b-8fcf-bf4f21225247\">Data-Studio Gestion Por Asesor</a></center></th>\n",
    "        </tr>\n",
    "        <tr>\n",
    "            <th><center>Cantidad de clientes deudores por asesor</center></th>\n",
    "            <th><center><a href=\"https://github.com/roheru/DatabasePosgres-Google/blob/main/Informes/Cantidad_Deudores_Por_Asesor.pdf\">Pdf Cantidad Deudores Por Asesor</a></center></th>\n",
    "            <th><center><a href=\"https://datastudio.google.com/reporting/9ce28429-0e8c-45c9-b07c-41b96773c0bd\">Data-Studio Deudor Por Asesor</a></center></th>\n",
    "        </tr>\n",
    "    </tbody>     \n",
    "</table>\n",
    "\n"
   ]
  },
  {
   "cell_type": "markdown",
   "metadata": {},
   "source": [
    "# Prueba básica de análisis de información (SQL)"
   ]
  },
  {
   "cell_type": "markdown",
   "metadata": {},
   "source": [
    "Diseñe un mapa de calor por fecha e intervalo de hora teniendo en cuenta la información de la tabla gestiones.\n"
   ]
  },
  {
   "cell_type": "markdown",
   "metadata": {},
   "source": [
    "<a href=\"https://github.com/roheru/DatabasePosgres-Google/blob/main/Informes/HeatMap_Fecha_%26_Hora.pdf\">Pdf Mapa de Calor Fecha-Hora</a>\n",
    "<br>\n",
    "<a href=\"https://datastudio.google.com/reporting/a294a3fe-752e-42e6-a6d0-9cd57d2cd050\">Google Data-Studio Mapa de Calor Fecha-Hora</a>"
   ]
  },
  {
   "cell_type": "markdown",
   "metadata": {},
   "source": [
    "Diseñe un query el cual le permita observar por asesor la mejor gestión por día, basado en las tablas de gestión y tipologías, teniendo en cuenta que el ranking es de menor a mayor en la tabla tipologías"
   ]
  },
  {
   "cell_type": "code",
   "execution_count": 11,
   "metadata": {},
   "outputs": [
    {
     "data": {
      "text/plain": [
       "''"
      ]
     },
     "execution_count": 11,
     "metadata": {},
     "output_type": "execute_result"
    }
   ],
   "source": [
    "'''\n",
    "select  g.identificacion_asesor,\n",
    "date_part('year',g.fecha_gestion) as anio,\n",
    "date_part('month',g.fecha_gestion) as mes,\n",
    "date_part('day',g.fecha_gestion) as dia,\n",
    "max(g.tipo_gestion) as best_ranking,\n",
    "(select tipologia from tipologias where cod_tipo=max(g.tipo_gestion)) as description\n",
    "from gestiones g\n",
    "group by g.identificacion_asesor,anio,mes,dia\n",
    "order by g.identificacion_asesor,anio,mes,dia\n",
    "'''\n",
    "''''''"
   ]
  },
  {
   "cell_type": "markdown",
   "metadata": {},
   "source": [
    "The output generated by this SQL query is shown <a href=\"https://github.com/roheru/DatabasePosgres-Google/blob/main/Informes/DataQuery.csv\">(Here - CSV File)</a>"
   ]
  }
 ],
 "metadata": {
  "kernelspec": {
   "display_name": "Python 3",
   "language": "python",
   "name": "python3"
  },
  "language_info": {
   "codemirror_mode": {
    "name": "ipython",
    "version": 3
   },
   "file_extension": ".py",
   "mimetype": "text/x-python",
   "name": "python",
   "nbconvert_exporter": "python",
   "pygments_lexer": "ipython3",
   "version": "3.8.5"
  }
 },
 "nbformat": 4,
 "nbformat_minor": 4
}
